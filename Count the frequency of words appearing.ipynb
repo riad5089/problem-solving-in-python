{
 "cells": [
  {
   "cell_type": "code",
   "execution_count": 14,
   "id": "5fac4710",
   "metadata": {},
   "outputs": [],
   "source": [
    "def freq_word():\n",
    "    str=input(\"Enter a string :\") #sheena loves eating apple and mango.Her sister also loves eating apple and mango\n",
    "    li=str.split()\n",
    "    d={}\n",
    "    for i in li:\n",
    "        if i not in d.keys():\n",
    "            d[i]=0\n",
    "        \n",
    "        \n",
    "        d[i]=d[i]+1\n",
    "    print(d)"
   ]
  },
  {
   "cell_type": "code",
   "execution_count": 15,
   "id": "94605430",
   "metadata": {},
   "outputs": [
    {
     "name": "stdout",
     "output_type": "stream",
     "text": [
      "Enter a string :sheena loves eating apple and mango.Her sister also loves eating apple and mango\n",
      "{'sheena': 1, 'loves': 2, 'eating': 2, 'apple': 2, 'and': 2, 'mango.Her': 1, 'sister': 1, 'also': 1, 'mango': 1}\n"
     ]
    }
   ],
   "source": [
    "freq_word()"
   ]
  },
  {
   "cell_type": "code",
   "execution_count": 18,
   "id": "cef3ee24",
   "metadata": {},
   "outputs": [],
   "source": [
    "def freq_word():\n",
    "    str=input(\"Enter a string :\") #sheena loves eating apple and mango.Her sister also loves eating apple and mango\n",
    "    li=str.split()\n",
    "    d={}\n",
    "    for i in li:\n",
    "        d[i]=d.get(i,0)+1\n",
    "        \n",
    "        \n",
    "        \n",
    "    print(d)"
   ]
  },
  {
   "cell_type": "code",
   "execution_count": 19,
   "id": "e16a4581",
   "metadata": {},
   "outputs": [
    {
     "name": "stdout",
     "output_type": "stream",
     "text": [
      "Enter a string :sheena loves eating apple and mango.Her sister also loves eating apple and mango\n",
      "{'sheena': 1, 'loves': 2, 'eating': 2, 'apple': 2, 'and': 2, 'mango.Her': 1, 'sister': 1, 'also': 1, 'mango': 1}\n"
     ]
    }
   ],
   "source": [
    "freq_word()"
   ]
  },
  {
   "cell_type": "code",
   "execution_count": 31,
   "id": "d9b9e2d0",
   "metadata": {},
   "outputs": [],
   "source": [
    "def freq_word():\n",
    "    str=input(\"Enter a string :\") #sheena loves eating apple and mango.Her sister also loves eating apple and mango\n",
    "    li=str.split()\n",
    "    d={}\n",
    "    for i in li:\n",
    "        if i in d.keys():\n",
    "            \n",
    "            d[i] +=1\n",
    "        \n",
    "        else:\n",
    "            d[i]=1\n",
    "        \n",
    "        \n",
    "    return d"
   ]
  },
  {
   "cell_type": "code",
   "execution_count": 32,
   "id": "5350c1ea",
   "metadata": {},
   "outputs": [
    {
     "name": "stdout",
     "output_type": "stream",
     "text": [
      "Enter a string :sheena loves eating apple and mango.Her sister also loves eating apple and mango\n"
     ]
    },
    {
     "data": {
      "text/plain": [
       "{'sheena': 1,\n",
       " 'loves': 2,\n",
       " 'eating': 2,\n",
       " 'apple': 2,\n",
       " 'and': 2,\n",
       " 'mango.Her': 1,\n",
       " 'sister': 1,\n",
       " 'also': 1,\n",
       " 'mango': 1}"
      ]
     },
     "execution_count": 32,
     "metadata": {},
     "output_type": "execute_result"
    }
   ],
   "source": [
    "freq_word()"
   ]
  },
  {
   "cell_type": "code",
   "execution_count": null,
   "id": "f041f6d1",
   "metadata": {},
   "outputs": [],
   "source": []
  }
 ],
 "metadata": {
  "kernelspec": {
   "display_name": "Python 3 (ipykernel)",
   "language": "python",
   "name": "python3"
  },
  "language_info": {
   "codemirror_mode": {
    "name": "ipython",
    "version": 3
   },
   "file_extension": ".py",
   "mimetype": "text/x-python",
   "name": "python",
   "nbconvert_exporter": "python",
   "pygments_lexer": "ipython3",
   "version": "3.9.7"
  }
 },
 "nbformat": 4,
 "nbformat_minor": 5
}
