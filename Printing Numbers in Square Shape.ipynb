{
 "cells": [
  {
   "cell_type": "code",
   "execution_count": 12,
   "id": "55ae794a",
   "metadata": {},
   "outputs": [
    {
     "name": "stdout",
     "output_type": "stream",
     "text": [
      "enter the numer of rows:5\n",
      "1\t2\t3\t4\t5\t\n",
      "16\t17\t18\t19\t6\t\n",
      "15\t24\t25\t20\t7\t\n",
      "14\t23\t22\t21\t8\t\n",
      "13\t12\t11\t10\t9\t\n"
     ]
    }
   ],
   "source": [
    "num =int(input(\"enter the numer of rows:\"))\n",
    "n_list=[[0 for x in range(num)] for y in range(num)]\n",
    "\n",
    "n=1\n",
    "low=0\n",
    "high=num-1\n",
    "count=int((num+1)/2)\n",
    "for i in range(count):\n",
    "    for j in range(low,high+1):\n",
    "        n_list[i][j]=n\n",
    "        n+=1\n",
    "    for j in range(low+1,high+1):\n",
    "        n_list[j][high]=n\n",
    "        n+=1\n",
    "    for j in range(high-1,low-1,-1):\n",
    "        n_list[high][j]=n\n",
    "        n+=1\n",
    "    for j in range(high-1,low,-1):\n",
    "        n_list[j][low]=n\n",
    "        n+=1\n",
    "    low=low+1\n",
    "    high=high-1\n",
    "for i in range(num):\n",
    "    for j in range(num):\n",
    "        print(n_list[i][j],end=\"\\t\")\n",
    "    print()"
   ]
  },
  {
   "cell_type": "code",
   "execution_count": null,
   "id": "94efe1eb",
   "metadata": {},
   "outputs": [],
   "source": []
  },
  {
   "cell_type": "code",
   "execution_count": null,
   "id": "05c932a0",
   "metadata": {},
   "outputs": [],
   "source": []
  }
 ],
 "metadata": {
  "kernelspec": {
   "display_name": "Python 3 (ipykernel)",
   "language": "python",
   "name": "python3"
  },
  "language_info": {
   "codemirror_mode": {
    "name": "ipython",
    "version": 3
   },
   "file_extension": ".py",
   "mimetype": "text/x-python",
   "name": "python",
   "nbconvert_exporter": "python",
   "pygments_lexer": "ipython3",
   "version": "3.9.7"
  }
 },
 "nbformat": 4,
 "nbformat_minor": 5
}
