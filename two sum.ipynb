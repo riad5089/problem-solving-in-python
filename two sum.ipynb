{
 "cells": [
  {
   "cell_type": "code",
   "execution_count": 2,
   "id": "dbeb8ea4",
   "metadata": {},
   "outputs": [
    {
     "data": {
      "text/plain": [
       "[0, 1]"
      ]
     },
     "execution_count": 2,
     "metadata": {},
     "output_type": "execute_result"
    }
   ],
   "source": [
    "def two_sum(nums,target):\n",
    "    hashmap={}\n",
    "    for i,n in enumerate(nums):\n",
    "        diff=target-n\n",
    "        if diff in hashmap:\n",
    "            return [hashmap[diff],i]\n",
    "        hashmap[n]=i\n",
    "        \n",
    "nums=[2,7,11,15]\n",
    "two_sum(nums,9)"
   ]
  },
  {
   "cell_type": "code",
   "execution_count": 1,
   "id": "b1a8e9a5",
   "metadata": {},
   "outputs": [
    {
     "data": {
      "text/plain": [
       "(0, 1)"
      ]
     },
     "execution_count": 1,
     "metadata": {},
     "output_type": "execute_result"
    }
   ],
   "source": [
    "def two_sum(nums,target):\n",
    "    res=0\n",
    "    for i in range(len(nums)):\n",
    "        for j in range(i+1,len(nums)):\n",
    "            res =nums[i]+nums[j]\n",
    "            if res==target:\n",
    "                return i,j\n",
    "            return None\n",
    "nums=[2,7,11,15]\n",
    "two_sum(nums,9)\n",
    "            "
   ]
  },
  {
   "cell_type": "code",
   "execution_count": null,
   "id": "be25c791",
   "metadata": {},
   "outputs": [],
   "source": []
  }
 ],
 "metadata": {
  "kernelspec": {
   "display_name": "Python 3 (ipykernel)",
   "language": "python",
   "name": "python3"
  },
  "language_info": {
   "codemirror_mode": {
    "name": "ipython",
    "version": 3
   },
   "file_extension": ".py",
   "mimetype": "text/x-python",
   "name": "python",
   "nbconvert_exporter": "python",
   "pygments_lexer": "ipython3",
   "version": "3.9.7"
  }
 },
 "nbformat": 4,
 "nbformat_minor": 5
}
