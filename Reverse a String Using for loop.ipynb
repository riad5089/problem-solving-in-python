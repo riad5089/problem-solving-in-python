{
 "cells": [
  {
   "cell_type": "code",
   "execution_count": 1,
   "id": "5475e160",
   "metadata": {},
   "outputs": [
    {
     "name": "stdout",
     "output_type": "stream",
     "text": [
      "enter a string 5\n",
      "5\n",
      "5\n"
     ]
    }
   ],
   "source": [
    "def reverse(string):\n",
    "    reversed_string =\"\"\n",
    "    for i in string:\n",
    "        reversed_string=i+reversed_string\n",
    "    print(reversed_string)\n",
    "string=input(\"enter a string \")\n",
    "print(string)\n",
    "reverse(string)\n",
    "    "
   ]
  },
  {
   "cell_type": "code",
   "execution_count": 3,
   "id": "9b243a36",
   "metadata": {},
   "outputs": [
    {
     "name": "stdout",
     "output_type": "stream",
     "text": [
      "daiR\n"
     ]
    }
   ],
   "source": [
    "a=\"Riad\"\n",
    "reverse(a)"
   ]
  },
  {
   "cell_type": "code",
   "execution_count": 6,
   "id": "a1e147e4",
   "metadata": {},
   "outputs": [
    {
     "name": "stdout",
     "output_type": "stream",
     "text": [
      "enter a name:riad\n",
      "riad\n"
     ]
    }
   ],
   "source": [
    "def reverse(name):\n",
    "    reversed_string=\"\"\n",
    "    for i in name:\n",
    "        reversed_name=i+reversed_string\n",
    "name=input(\"enter a name:\")\n",
    "print(name)\n",
    "reverse(name)"
   ]
  }
 ],
 "metadata": {
  "kernelspec": {
   "display_name": "Python 3 (ipykernel)",
   "language": "python",
   "name": "python3"
  },
  "language_info": {
   "codemirror_mode": {
    "name": "ipython",
    "version": 3
   },
   "file_extension": ".py",
   "mimetype": "text/x-python",
   "name": "python",
   "nbconvert_exporter": "python",
   "pygments_lexer": "ipython3",
   "version": "3.9.7"
  }
 },
 "nbformat": 4,
 "nbformat_minor": 5
}
